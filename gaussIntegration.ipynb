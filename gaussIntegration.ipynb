{
 "cells": [
  {
   "cell_type": "code",
   "execution_count": 1,
   "metadata": {},
   "outputs": [
    {
     "data": {
      "text/plain": [
       "' x,A = gaussNodes(m,tol=10e-9)\\nReturns nodal abscissas {x} and weights {A} of\\nGauss-Legendre m-point quadrature.\\n\\nAproxima ejemplo 6.1 de la pagina 228 del libro de Felipe\\n'"
      ]
     },
     "execution_count": 1,
     "metadata": {},
     "output_type": "execute_result"
    }
   ],
   "source": [
    "## module gaussNodes\n",
    "''' x,A = gaussNodes(m,tol=10e-9)\n",
    "Returns nodal abscissas {x} and weights {A} of\n",
    "Gauss-Legendre m-point quadrature.\n",
    "\n",
    "Aproxima ejemplo 6.1 de la pagina 228 del libro de Felipe\n",
    "'''"
   ]
  },
  {
   "cell_type": "code",
   "execution_count": 2,
   "metadata": {},
   "outputs": [],
   "source": [
    "from math import cos,pi\n",
    "#from numarray import zeros,Float64\n",
    "import numpy as np"
   ]
  },
  {
   "cell_type": "code",
   "execution_count": 3,
   "metadata": {},
   "outputs": [
    {
     "name": "stdout",
     "output_type": "stream",
     "text": [
      "2.0\n"
     ]
    }
   ],
   "source": [
    "print(np.round(2.5))"
   ]
  },
  {
   "cell_type": "code",
   "execution_count": 4,
   "metadata": {},
   "outputs": [],
   "source": [
    "def gaussNodes(m,tol=10e-9):    \n",
    "    def legendre(t,m):\n",
    "        p0 = 1.0; p1 = t\n",
    "        for k in range(1,m):\n",
    "            p = ((2.0*k + 1.0)*t*p1 - k*p0)/(1.0 + k)\n",
    "            p0 = p1; p1 = p\n",
    "        dp = m*(p0 - t*p1)/(1.0 - t**2)\n",
    "        return p,dp\n",
    "\n",
    "    A = np.zeros(m)\n",
    "    x = np.zeros(m)\n",
    "    nRoots = (m + 1)/2 # Number of non-neg. roots\n",
    "    nRoots= int(np.rint(nRoots))\n",
    "    for i in range(nRoots):\n",
    "        t = cos(pi*(i + 0.75)/(m + 0.5)) # Approx. root\n",
    "        for j in range(30): \n",
    "            p,dp = legendre(t,m) # Newton-Raphson\n",
    "            dt = -p/dp; t = t + dt # method\n",
    "            if abs(dt) < tol:\n",
    "                x[i] = t; x[m-i-1] = -t\n",
    "                A[i] = 2.0/(1.0 - t**2)/(dp**2) # Eq.(6.25)\n",
    "                A[m-i-1] = A[i]\n",
    "                break\n",
    "    return x,A"
   ]
  },
  {
   "cell_type": "code",
   "execution_count": 5,
   "metadata": {},
   "outputs": [],
   "source": [
    "#from gaussNodes import *"
   ]
  },
  {
   "cell_type": "code",
   "execution_count": 6,
   "metadata": {},
   "outputs": [
    {
     "data": {
      "text/plain": [
       "' I = gaussQuad(f,a,b,m).\\nComputes the integral of f(x) from x = a to b\\nwith Gauss-Legendre quadrature using m nodes.\\n'"
      ]
     },
     "execution_count": 6,
     "metadata": {},
     "output_type": "execute_result"
    }
   ],
   "source": [
    "## module gaussQuad\n",
    "''' I = gaussQuad(f,a,b,m).\n",
    "Computes the integral of f(x) from x = a to b\n",
    "with Gauss-Legendre quadrature using m nodes.\n",
    "'''"
   ]
  },
  {
   "cell_type": "code",
   "execution_count": 7,
   "metadata": {},
   "outputs": [],
   "source": [
    "def gaussQuad(f,a,b,m):\n",
    "    c1 = (b + a)/2.0\n",
    "    c2 = (b - a)/2.0\n",
    "    x,A = gaussNodes(m)\n",
    "    sum = 0.0\n",
    "    for i in range(len(x)):\n",
    "        sum = sum + A[i]*f(c1 + c2*x[i])\n",
    "    return c2*sum"
   ]
  },
  {
   "cell_type": "code",
   "execution_count": 8,
   "metadata": {},
   "outputs": [],
   "source": [
    "## example 6_11\n",
    "from math import pi,sin\n",
    "#from gaussQuad import *"
   ]
  },
  {
   "cell_type": "code",
   "execution_count": 9,
   "metadata": {},
   "outputs": [
    {
     "name": "stdout",
     "output_type": "stream",
     "text": [
      "2\n",
      "3\n",
      "4\n",
      "5\n",
      "6\n",
      "7\n",
      "8\n",
      "9\n",
      "10\n",
      "11\n"
     ]
    }
   ],
   "source": [
    "for m in range(2,12):\n",
    "    print(m)"
   ]
  },
  {
   "cell_type": "code",
   "execution_count": 10,
   "metadata": {},
   "outputs": [],
   "source": [
    "def f(x): \n",
    "    return (sin(x)/x)**2"
   ]
  },
  {
   "cell_type": "code",
   "execution_count": 11,
   "metadata": {},
   "outputs": [
    {
     "name": "stdout",
     "output_type": "stream",
     "text": [
      "Number of nodes = 5\n",
      "Integral = 1.418150267782668\n"
     ]
    }
   ],
   "source": [
    "a = 0.0\n",
    "b = pi\n",
    "Iexact = 1.41815\n",
    "\n",
    "for m in range(2,12):\n",
    "    I = gaussQuad(f,a,b,m)\n",
    "    if abs(I - Iexact) < 0.00001:\n",
    "        print ('Number of nodes =',m)\n",
    "        print ('Integral =', gaussQuad(f,a,b,m) )\n",
    "        break\n",
    "#raw_input(' \\nPress return to exit ' )"
   ]
  },
  {
   "cell_type": "code",
   "execution_count": null,
   "metadata": {},
   "outputs": [],
   "source": []
  }
 ],
 "metadata": {
  "interpreter": {
<<<<<<< HEAD
   "hash": "b029cbf77927d83e2595f85199ea4b177ab134582ddbc89e1f523ad7ef41f1fb"
=======
   "hash": "53f0295ebb7d8b27935df25875983f54585ca6755a9df9be21f94649201515a6"
>>>>>>> c06291ae40ff170e8ffadbf06c9632a2741025eb
  },
  "kernelspec": {
   "display_name": "Python 3.8.5 64-bit ('base': conda)",
   "name": "python3"
  },
  "language_info": {
   "codemirror_mode": {
    "name": "ipython",
    "version": 3
   },
   "file_extension": ".py",
   "mimetype": "text/x-python",
   "name": "python",
   "nbconvert_exporter": "python",
   "pygments_lexer": "ipython3",
   "version": "3.8.5"
  },
  "orig_nbformat": 2
 },
 "nbformat": 4,
 "nbformat_minor": 2
}
