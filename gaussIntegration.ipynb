{
 "metadata": {
  "language_info": {
   "codemirror_mode": {
    "name": "ipython",
    "version": 3
   },
   "file_extension": ".py",
   "mimetype": "text/x-python",
   "name": "python",
   "nbconvert_exporter": "python",
   "pygments_lexer": "ipython3",
   "version": "3.7.6-final"
  },
  "orig_nbformat": 2,
  "kernelspec": {
   "name": "python376jvsc74a57bd0ffe834075631e1b49e5bf493eb9f0fcddc5cca182727b491179c0f6e9d719183",
   "display_name": "Python 3.7.6 64-bit (conda)"
  }
 },
 "nbformat": 4,
 "nbformat_minor": 2,
 "cells": [
  {
   "cell_type": "code",
   "execution_count": 46,
   "metadata": {},
   "outputs": [
    {
     "output_type": "execute_result",
     "data": {
      "text/plain": [
       "' x,A = gaussNodes(m,tol=10e-9)\\nReturns nodal abscissas {x} and weights {A} of\\nGauss-Legendre m-point quadrature.\\n'"
      ]
     },
     "metadata": {},
     "execution_count": 46
    }
   ],
   "source": [
    "## module gaussNodes\n",
    "''' x,A = gaussNodes(m,tol=10e-9)\n",
    "Returns nodal abscissas {x} and weights {A} of\n",
    "Gauss-Legendre m-point quadrature.\n",
    "\n",
    "Aproxima ejemplo 6.1 de la pagina 228 del libro de Felipe\n",
    "'''"
   ]
  },
  {
   "cell_type": "code",
   "execution_count": 47,
   "metadata": {},
   "outputs": [],
   "source": [
    "from math import cos,pi\n",
    "#from numarray import zeros,Float64\n",
    "import numpy as np"
   ]
  },
  {
   "cell_type": "code",
   "execution_count": 48,
   "metadata": {},
   "outputs": [
    {
     "output_type": "stream",
     "name": "stdout",
     "text": [
      "2.0\n"
     ]
    }
   ],
   "source": [
    "print(np.round(2.5))"
   ]
  },
  {
   "cell_type": "code",
   "execution_count": 49,
   "metadata": {},
   "outputs": [],
   "source": [
    "def gaussNodes(m,tol=10e-9):    \n",
    "    def legendre(t,m):\n",
    "        p0 = 1.0; p1 = t\n",
    "        for k in range(1,m):\n",
    "            p = ((2.0*k + 1.0)*t*p1 - k*p0)/(1.0 + k)\n",
    "            p0 = p1; p1 = p\n",
    "        dp = m*(p0 - t*p1)/(1.0 - t**2)\n",
    "        return p,dp\n",
    "\n",
    "    A = np.zeros(m)\n",
    "    x = np.zeros(m)\n",
    "    nRoots = (m + 1)/2 # Number of non-neg. roots\n",
    "    nRoots= int(np.rint(nRoots))\n",
    "    for i in range(nRoots):\n",
    "        t = cos(pi*(i + 0.75)/(m + 0.5)) # Approx. root\n",
    "        for j in range(30): \n",
    "            p,dp = legendre(t,m) # Newton-Raphson\n",
    "            dt = -p/dp; t = t + dt # method\n",
    "            if abs(dt) < tol:\n",
    "                x[i] = t; x[m-i-1] = -t\n",
    "                A[i] = 2.0/(1.0 - t**2)/(dp**2) # Eq.(6.25)\n",
    "                A[m-i-1] = A[i]\n",
    "                break\n",
    "    return x,A"
   ]
  },
  {
   "cell_type": "code",
   "execution_count": 50,
   "metadata": {},
   "outputs": [],
   "source": [
    "#from gaussNodes import *"
   ]
  },
  {
   "cell_type": "code",
   "execution_count": 51,
   "metadata": {},
   "outputs": [
    {
     "output_type": "execute_result",
     "data": {
      "text/plain": [
       "' I = gaussQuad(f,a,b,m).\\nComputes the integral of f(x) from x = a to b\\nwith Gauss-Legendre quadrature using m nodes.\\n'"
      ]
     },
     "metadata": {},
     "execution_count": 51
    }
   ],
   "source": [
    "## module gaussQuad\n",
    "''' I = gaussQuad(f,a,b,m).\n",
    "Computes the integral of f(x) from x = a to b\n",
    "with Gauss-Legendre quadrature using m nodes.\n",
    "'''"
   ]
  },
  {
   "cell_type": "code",
   "execution_count": 52,
   "metadata": {},
   "outputs": [],
   "source": [
    "def gaussQuad(f,a,b,m):\n",
    "    c1 = (b + a)/2.0\n",
    "    c2 = (b - a)/2.0\n",
    "    x,A = gaussNodes(m)\n",
    "    sum = 0.0\n",
    "    for i in range(len(x)):\n",
    "        sum = sum + A[i]*f(c1 + c2*x[i])\n",
    "    return c2*sum"
   ]
  },
  {
   "cell_type": "code",
   "execution_count": 53,
   "metadata": {},
   "outputs": [],
   "source": [
    "## example 6_11\n",
    "from math import pi,sin\n",
    "#from gaussQuad import *"
   ]
  },
  {
   "cell_type": "code",
   "execution_count": 54,
   "metadata": {},
   "outputs": [
    {
     "output_type": "stream",
     "name": "stdout",
     "text": [
      "2\n3\n4\n5\n6\n7\n8\n9\n10\n11\n"
     ]
    }
   ],
   "source": [
    "for m in range(2,12):\n",
    "    print(m)"
   ]
  },
  {
   "cell_type": "code",
   "execution_count": 57,
   "metadata": {},
   "outputs": [],
   "source": [
    "def f(x): \n",
    "    return (sin(x)/x)**2"
   ]
  },
  {
   "cell_type": "code",
   "execution_count": 58,
   "metadata": {},
   "outputs": [
    {
     "output_type": "stream",
     "name": "stdout",
     "text": [
      "Number of nodes = 5\nIntegral = 1.418150267782668\n"
     ]
    }
   ],
   "source": [
    "a = 0.0\n",
    "b = pi\n",
    "Iexact = 1.41815\n",
    "\n",
    "for m in range(2,12):\n",
    "    I = gaussQuad(f,a,b,m)\n",
    "    if abs(I - Iexact) < 0.00001:\n",
    "        print ('Number of nodes =',m)\n",
    "        print ('Integral =', gaussQuad(f,a,b,m) )\n",
    "        break\n",
    "#raw_input(' \\nPress return to exit ' )"
   ]
  },
  {
   "cell_type": "code",
   "execution_count": null,
   "metadata": {},
   "outputs": [],
   "source": []
  }
 ]
}